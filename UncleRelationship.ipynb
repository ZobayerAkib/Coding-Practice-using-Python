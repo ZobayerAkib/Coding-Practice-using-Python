{
 "cells": [
  {
   "cell_type": "code",
   "execution_count": 1,
   "id": "aadd41f1",
   "metadata": {},
   "outputs": [],
   "source": [
    "tpL = [('parent', 'Hasib', 'Rakib'), ('parent', 'Hasib', 'Mila'), ('parent', 'Hasib', 'Shila'),\n",
    " ('parent', 'Rakib', 'Sohel'), ('parent', 'Hasib', 'Akib'), ('parent', 'Akib', 'Alia')]"
   ]
  },
  {
   "cell_type": "code",
   "execution_count": 2,
   "id": "082b86cd",
   "metadata": {},
   "outputs": [
    {
     "name": "stdout",
     "output_type": "stream",
     "text": [
      "Enter The Name:Alia\n"
     ]
    }
   ],
   "source": [
    "X=str(input('Enter The Name:' ))"
   ]
  },
  {
   "cell_type": "code",
   "execution_count": 6,
   "id": "8b839e22",
   "metadata": {},
   "outputs": [],
   "source": [
    "i,j,k=0,0,0\n",
    "Male = [ 'Hasib', 'Rakib', 'Akib'] \n",
    "Female = [ 'Mila', 'Shila', 'Alia']\n"
   ]
  },
  {
   "cell_type": "code",
   "execution_count": 7,
   "id": "3a435f5b",
   "metadata": {},
   "outputs": [
    {
     "name": "stdout",
     "output_type": "stream",
     "text": [
      "Rakib "
     ]
    }
   ],
   "source": [
    "for i in range(len(tpL)):\n",
    "    if(tpL[i][2]==X):\n",
    "        for j in range(len(tpL)):\n",
    "            if(tpL[j][2]==tpL[i][1]):\n",
    "                for k in range(len(tpL)):\n",
    "                    if((tpL[k][1]==tpL[j][1]) & (tpL[k][2] != tpL[j][2]) & (tpL[k][2] in Male)):\n",
    "                        print(tpL[k][2], end=' ')"
   ]
  },
  {
   "cell_type": "code",
   "execution_count": null,
   "id": "232b78ac",
   "metadata": {},
   "outputs": [],
   "source": []
  }
 ],
 "metadata": {
  "kernelspec": {
   "display_name": "Python 3 (ipykernel)",
   "language": "python",
   "name": "python3"
  },
  "language_info": {
   "codemirror_mode": {
    "name": "ipython",
    "version": 3
   },
   "file_extension": ".py",
   "mimetype": "text/x-python",
   "name": "python",
   "nbconvert_exporter": "python",
   "pygments_lexer": "ipython3",
   "version": "3.9.12"
  }
 },
 "nbformat": 4,
 "nbformat_minor": 5
}
