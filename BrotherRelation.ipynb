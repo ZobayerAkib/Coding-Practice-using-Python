{
 "cells": [
  {
   "cell_type": "code",
   "execution_count": 3,
   "id": "da8d92a2",
   "metadata": {},
   "outputs": [],
   "source": [
    "tuplelist=[('Child','Akib','Rakib'),\n",
    "           ('Child','Rahim','Rakib'),\n",
    "           ('Child','Rahima','Rakib')]"
   ]
  },
  {
   "cell_type": "code",
   "execution_count": 4,
   "id": "1564ba43",
   "metadata": {},
   "outputs": [],
   "source": [
    "Male=('Akib','Rakib','Rahim','Sakib','Kibria')\n",
    "Female=('Rahima','Fahima','Fatima')\n"
   ]
  },
  {
   "cell_type": "code",
   "execution_count": 5,
   "id": "51bc37c7",
   "metadata": {},
   "outputs": [
    {
     "name": "stdout",
     "output_type": "stream",
     "text": [
      "Brother Or Sister -->  "
     ]
    }
   ],
   "source": [
    "print('Brother Or Sister --> ',end=' ')"
   ]
  },
  {
   "cell_type": "code",
   "execution_count": 6,
   "id": "2b5d8d15",
   "metadata": {},
   "outputs": [
    {
     "name": "stdout",
     "output_type": "stream",
     "text": [
      "Take a name as input: Akib\n"
     ]
    }
   ],
   "source": [
    "X=str(input('Take a name as input: '))"
   ]
  },
  {
   "cell_type": "code",
   "execution_count": 7,
   "id": "027ff6b5",
   "metadata": {},
   "outputs": [],
   "source": [
    "i,j,k=0,0,0\n"
   ]
  },
  {
   "cell_type": "code",
   "execution_count": 8,
   "id": "1d564811",
   "metadata": {},
   "outputs": [
    {
     "name": "stdout",
     "output_type": "stream",
     "text": [
      "Rahim "
     ]
    }
   ],
   "source": [
    "for i in range(len(tuplelist)):\n",
    "    if(tuplelist[i][1]==X):\n",
    "      for j in range (len(tuplelist)):\n",
    "       if((tuplelist[i][2]==tuplelist[j][2]) & (tuplelist[j][1] in Male) & (tuplelist[i][1]!=tuplelist[j][1]) ):\n",
    "            print(tuplelist[j][1],end=' ')"
   ]
  },
  {
   "cell_type": "code",
   "execution_count": null,
   "id": "459ffabe",
   "metadata": {},
   "outputs": [],
   "source": []
  }
 ],
 "metadata": {
  "kernelspec": {
   "display_name": "Python 3 (ipykernel)",
   "language": "python",
   "name": "python3"
  },
  "language_info": {
   "codemirror_mode": {
    "name": "ipython",
    "version": 3
   },
   "file_extension": ".py",
   "mimetype": "text/x-python",
   "name": "python",
   "nbconvert_exporter": "python",
   "pygments_lexer": "ipython3",
   "version": "3.9.12"
  }
 },
 "nbformat": 4,
 "nbformat_minor": 5
}
