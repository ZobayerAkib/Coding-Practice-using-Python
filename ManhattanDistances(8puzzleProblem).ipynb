{
 "cells": [
  {
   "cell_type": "code",
   "execution_count": 14,
   "id": "933909e8",
   "metadata": {},
   "outputs": [],
   "source": [
    "gtp = [(1,1,2), (2,1,2), (3,1,3), (4,2,3), (5,3,3), (6,3,2), (7,3,1), (8,2,1)]\n",
    "gblnk = (2,1)\n",
    "tp = [(1,1,2), (2,1,3), (3,2,1), (4,2,3), (5,3,3), (6,2,2), (7,3,2), (8,1,1)]\n",
    "blnk = (3,1)"
   ]
  },
  {
   "cell_type": "code",
   "execution_count": 15,
   "id": "86ccaa0d",
   "metadata": {},
   "outputs": [],
   "source": [
    "i,distance=0,0"
   ]
  },
  {
   "cell_type": "code",
   "execution_count": 16,
   "id": "ad8c6d8e",
   "metadata": {},
   "outputs": [],
   "source": [
    "for i in range(len(gtp)):\n",
    "    if(gtp[i][1]!=tp[i][1] or gtp[i][2]!=tp[i][2]):\n",
    "        distance += (abs(gtp[i][1]-tp[i][1]) + abs(gtp[i][2]-tp[i][2]))\n",
    "     "
   ]
  },
  {
   "cell_type": "code",
   "execution_count": 17,
   "id": "dcc163be",
   "metadata": {},
   "outputs": [
    {
     "name": "stdout",
     "output_type": "stream",
     "text": [
      "Manhattan distances of the tiles:  7\n"
     ]
    }
   ],
   "source": [
    "print('Manhattan distances of the tiles: ', distance)   "
   ]
  },
  {
   "cell_type": "code",
   "execution_count": null,
   "id": "cc968afc",
   "metadata": {},
   "outputs": [],
   "source": []
  }
 ],
 "metadata": {
  "kernelspec": {
   "display_name": "Python 3 (ipykernel)",
   "language": "python",
   "name": "python3"
  },
  "language_info": {
   "codemirror_mode": {
    "name": "ipython",
    "version": 3
   },
   "file_extension": ".py",
   "mimetype": "text/x-python",
   "name": "python",
   "nbconvert_exporter": "python",
   "pygments_lexer": "ipython3",
   "version": "3.9.12"
  }
 },
 "nbformat": 4,
 "nbformat_minor": 5
}
