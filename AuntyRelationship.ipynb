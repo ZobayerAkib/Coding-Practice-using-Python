{
 "cells": [
  {
   "cell_type": "code",
   "execution_count": 1,
   "id": "c7365f2d",
   "metadata": {},
   "outputs": [],
   "source": [
    "tpL = [('parent', 'Hasib', 'Rakib'), ('parent', 'Hasib', 'Mila'), ('parent', 'Hasib', 'Shila'),\n",
    " ('parent', 'Rakib', 'Sohel'), ('parent', 'Hasib', 'Akib'), ('parent', 'Akib', 'Alia')]"
   ]
  },
  {
   "cell_type": "code",
   "execution_count": 2,
   "id": "0978328f",
   "metadata": {},
   "outputs": [
    {
     "name": "stdout",
     "output_type": "stream",
     "text": [
      "Enter The Name: Alia\n"
     ]
    }
   ],
   "source": [
    "X=str(input('Enter The Name: '))\n",
    "i,j,k=0,0,0"
   ]
  },
  {
   "cell_type": "code",
   "execution_count": 3,
   "id": "e8bcd6b5",
   "metadata": {},
   "outputs": [],
   "source": [
    "Male=['Hasib','Rakib','Akib','Sohel']\n",
    "Female=['Alia','Shila','Mila']"
   ]
  },
  {
   "cell_type": "code",
   "execution_count": 15,
   "id": "7c1ea85c",
   "metadata": {},
   "outputs": [
    {
     "name": "stdout",
     "output_type": "stream",
     "text": [
      "Mila Shila "
     ]
    }
   ],
   "source": [
    "for i in range(len(tpL)):\n",
    "    if(tpL[i][2]==X):\n",
    "           for j in range (len(tpL)):\n",
    "                   if((tpL[j][2]) == (tpL[i][1])):\n",
    "                          for k in range(len(tpL)):\n",
    "                                if((tpL[k][1]==tpL[j][1]) & (tpL[k][2] != tpL[j][2]) & (tpL[k][2] in Female )):\n",
    "                                         print(tpL[k][2], end=' ')\n",
    "                         "
   ]
  },
  {
   "cell_type": "code",
   "execution_count": null,
   "id": "2c466b46",
   "metadata": {},
   "outputs": [],
   "source": []
  }
 ],
 "metadata": {
  "kernelspec": {
   "display_name": "Python 3 (ipykernel)",
   "language": "python",
   "name": "python3"
  },
  "language_info": {
   "codemirror_mode": {
    "name": "ipython",
    "version": 3
   },
   "file_extension": ".py",
   "mimetype": "text/x-python",
   "name": "python",
   "nbconvert_exporter": "python",
   "pygments_lexer": "ipython3",
   "version": "3.9.12"
  }
 },
 "nbformat": 4,
 "nbformat_minor": 5
}
