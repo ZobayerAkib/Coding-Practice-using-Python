{
 "cells": [
  {
   "cell_type": "code",
   "execution_count": 1,
   "id": "379d2224",
   "metadata": {},
   "outputs": [],
   "source": [
    "import math\n",
    "dataset=[\n",
    "(35,50,3,'Yes'),\n",
    "(22,40,2,'No'),\n",
    "(34,45,3,'Yes'),\n",
    "(23,78,2,'No'),\n",
    "(43,90,3,'Yes'),\n",
    "(35,12,2,'Yes')]\n"
   ]
  },
  {
   "cell_type": "code",
   "execution_count": 2,
   "id": "ceb59cc7",
   "metadata": {},
   "outputs": [
    {
     "name": "stdout",
     "output_type": "stream",
     "text": [
      "Age:24\n",
      "Ammount of income:30\n",
      "No. of credit cards:2\n",
      "No. of Neighbours:4\n"
     ]
    }
   ],
   "source": [
    "X= int(input(\"Age:\"))\n",
    "Y= int(input(\"Ammount of income:\"))\n",
    "Z= int(input(\"No. of credit cards:\"))\n",
    "K= int(input(\"No. of Neighbours:\"))\n"
   ]
  },
  {
   "cell_type": "code",
   "execution_count": 5,
   "id": "ca11d233",
   "metadata": {},
   "outputs": [
    {
     "ename": "IndentationError",
     "evalue": "expected an indented block (2652804395.py, line 5)",
     "output_type": "error",
     "traceback": [
      "\u001b[1;36m  Input \u001b[1;32mIn [5]\u001b[1;36m\u001b[0m\n\u001b[1;33m    ED = 0.0\u001b[0m\n\u001b[1;37m    ^\u001b[0m\n\u001b[1;31mIndentationError\u001b[0m\u001b[1;31m:\u001b[0m expected an indented block\n"
     ]
    }
   ],
   "source": [
    "NumOfYes= 0\n",
    "NumOfNo= 0\n",
    "distance=[ ]\n",
    "def countDistance(x):\n",
    "ED = 0.0\n",
    "ED=pow((float(dataset[x][0])-float(X)),2)+pow((float(dataset[x][1])-float(Y)),2)+pow((float(dataset[x][2])-float(Z)),2)\n",
    "ED = math.sqrt(ED)\n",
    "return ED\n",
    "for i in range(len(dataset)):\n",
    "    distance.append(countDistance(i))\n",
    "    distance.sort()\n",
    "    print(\"Distances:\")\n",
    "    print(distance)\n",
    "    print(\"Nearest Neighbours:\")\n",
    "for i in range(K):\n",
    "    print(distance[i])\n",
    "for i in range(K):\n",
    "    for j in range(len(dataset)): \n",
    "        if(distance[i]==countDistance(j)): \n",
    "            if(dataset[j][3]=='Yes'):\n",
    "                 NumOfYes+=1\n",
    "            else:\n",
    "                 NumOfNo+=1\n",
    "        if(NumOfNo>NumOfYes):\n",
    "        print('Class: No')\n",
    "        else:\n",
    "        print('Class: Yes')"
   ]
  },
  {
   "cell_type": "code",
   "execution_count": null,
   "id": "45879aeb",
   "metadata": {},
   "outputs": [],
   "source": []
  }
 ],
 "metadata": {
  "kernelspec": {
   "display_name": "Python 3 (ipykernel)",
   "language": "python",
   "name": "python3"
  },
  "language_info": {
   "codemirror_mode": {
    "name": "ipython",
    "version": 3
   },
   "file_extension": ".py",
   "mimetype": "text/x-python",
   "name": "python",
   "nbconvert_exporter": "python",
   "pygments_lexer": "ipython3",
   "version": "3.9.12"
  }
 },
 "nbformat": 4,
 "nbformat_minor": 5
}
