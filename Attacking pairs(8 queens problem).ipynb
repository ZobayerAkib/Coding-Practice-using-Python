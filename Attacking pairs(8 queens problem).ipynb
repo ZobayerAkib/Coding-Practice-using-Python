{
 "cells": [
  {
   "cell_type": "code",
   "execution_count": 1,
   "id": "e637d4ef",
   "metadata": {},
   "outputs": [],
   "source": [
    "def hCol(pos):\n",
    "    for i in range (len(pos)):\n",
    "        cntHorizontal(i,pos)"
   ]
  },
  {
   "cell_type": "code",
   "execution_count": 2,
   "id": "a6315dbf",
   "metadata": {},
   "outputs": [],
   "source": [
    "def duCol(pos):\n",
    "    for i in range(len(pos)):\n",
    "        cntDiagonalUp(i,pos)"
   ]
  },
  {
   "cell_type": "code",
   "execution_count": 3,
   "id": "b55de8ee",
   "metadata": {},
   "outputs": [],
   "source": [
    "def ddCol(pos):\n",
    "    for i in range(len(pos)):\n",
    "        cntDiagonalDown(i,pos)"
   ]
  },
  {
   "cell_type": "code",
   "execution_count": 8,
   "id": "985395cc",
   "metadata": {},
   "outputs": [],
   "source": [
    "def cntHorizontal(point, pos):\n",
    "  global cnt\n",
    "  for i in range(point + 1, len(pos)):\n",
    "     if pos[i] == pos[point]:\n",
    "      cnt += 1"
   ]
  },
  {
   "cell_type": "code",
   "execution_count": 10,
   "id": "f6513454",
   "metadata": {},
   "outputs": [],
   "source": [
    "def cntDiagonalUp(point, pos):\n",
    "  global cnt\n",
    "  for i in range(point + 1, len(pos)):\n",
    "     if pos[i] == pos[point]+1-point:\n",
    "      cnt += 1"
   ]
  },
  {
   "cell_type": "code",
   "execution_count": 11,
   "id": "01de8974",
   "metadata": {},
   "outputs": [],
   "source": [
    "def cntDiagonalDown(point, pos):\n",
    "  global cnt\n",
    "  for i in range(point + 1, len(pos)):\n",
    "     if pos[i] == pos[point]-1+point:\n",
    "      cnt += 1"
   ]
  },
  {
   "cell_type": "code",
   "execution_count": 12,
   "id": "b540afb3",
   "metadata": {},
   "outputs": [
    {
     "name": "stdout",
     "output_type": "stream",
     "text": [
      "The number of attacking pairs:  7\n"
     ]
    }
   ],
   "source": [
    "#main function-->\n",
    "cnt=0\n",
    "pos= [5, 1, 6, 7, 4, 3, 8, 1]\n",
    "hCol(pos)\n",
    "duCol(pos)\n",
    "ddCol(pos)\n",
    "print('The number of attacking pairs: ', cnt)\n",
    "\n"
   ]
  },
  {
   "cell_type": "code",
   "execution_count": null,
   "id": "e3347d34",
   "metadata": {},
   "outputs": [],
   "source": []
  }
 ],
 "metadata": {
  "kernelspec": {
   "display_name": "Python 3 (ipykernel)",
   "language": "python",
   "name": "python3"
  },
  "language_info": {
   "codemirror_mode": {
    "name": "ipython",
    "version": 3
   },
   "file_extension": ".py",
   "mimetype": "text/x-python",
   "name": "python",
   "nbconvert_exporter": "python",
   "pygments_lexer": "ipython3",
   "version": "3.9.12"
  }
 },
 "nbformat": 4,
 "nbformat_minor": 5
}
