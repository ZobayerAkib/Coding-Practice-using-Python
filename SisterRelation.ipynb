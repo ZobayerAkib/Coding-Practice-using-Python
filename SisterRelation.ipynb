{
 "cells": [
  {
   "cell_type": "code",
   "execution_count": 3,
   "id": "83255ed1",
   "metadata": {},
   "outputs": [],
   "source": [
    "tuplelist=[('Child','Akib','Rakib'),\n",
    "           ('Child','Rahim','Rakib'),\n",
    "           ('Child','Rahima','Rakib'),\n",
    "          ('Child','Fahima','Sakib')]"
   ]
  },
  {
   "cell_type": "code",
   "execution_count": 4,
   "id": "043c272b",
   "metadata": {},
   "outputs": [],
   "source": [
    "Male=('Akib','Rakib','Rahim','Sakib')\n",
    "Female=('Rahima','Fahima')\n"
   ]
  },
  {
   "cell_type": "code",
   "execution_count": 12,
   "id": "47e6c227",
   "metadata": {},
   "outputs": [
    {
     "name": "stdout",
     "output_type": "stream",
     "text": [
      "Enter the name: Rahim\n",
      "Sisters:  "
     ]
    }
   ],
   "source": [
    "X=str(input('Enter the name: '))\n",
    "print('Sisters: ',end=' ')\n"
   ]
  },
  {
   "cell_type": "code",
   "execution_count": 13,
   "id": "b97ccc28",
   "metadata": {},
   "outputs": [],
   "source": [
    "i,j=0,0"
   ]
  },
  {
   "cell_type": "code",
   "execution_count": 16,
   "id": "b129ebcd",
   "metadata": {},
   "outputs": [
    {
     "name": "stdout",
     "output_type": "stream",
     "text": [
      "Rahima "
     ]
    }
   ],
   "source": [
    "for i in range (len(tuplelist)):\n",
    "    if(tuplelist[i][1]==X):\n",
    "        for j in range (len(tuplelist)):\n",
    "            if((tuplelist[i][2]==tuplelist[j][2]) & (tuplelist[j][1] in Female) & (tuplelist[i][1]!=tuplelist[j][1]) ):\n",
    "                print(tuplelist[j][1],end=' ')"
   ]
  },
  {
   "cell_type": "code",
   "execution_count": null,
   "id": "18caea87",
   "metadata": {},
   "outputs": [],
   "source": []
  }
 ],
 "metadata": {
  "kernelspec": {
   "display_name": "Python 3 (ipykernel)",
   "language": "python",
   "name": "python3"
  },
  "language_info": {
   "codemirror_mode": {
    "name": "ipython",
    "version": 3
   },
   "file_extension": ".py",
   "mimetype": "text/x-python",
   "name": "python",
   "nbconvert_exporter": "python",
   "pygments_lexer": "ipython3",
   "version": "3.9.12"
  }
 },
 "nbformat": 4,
 "nbformat_minor": 5
}
